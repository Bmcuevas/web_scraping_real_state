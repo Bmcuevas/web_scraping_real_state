{
 "cells": [
  {
   "cell_type": "code",
   "execution_count": 2,
   "metadata": {},
   "outputs": [],
   "source": [
    "from bs4 import BeautifulSoup\n",
    "from selenium import webdriver\n",
    "from selenium.common.exceptions import WebDriverException\n",
    "import pandas as pd\n",
    "from datetime import date\n",
    "import time\n"
   ]
  },
  {
   "cell_type": "code",
   "execution_count": 3,
   "metadata": {},
   "outputs": [
    {
     "name": "stderr",
     "output_type": "stream",
     "text": [
      "/var/folders/hx/cw5n8jjn3h3712lbydxq3h340000gn/T/ipykernel_56831/3492428318.py:2: DeprecationWarning: executable_path has been deprecated, please pass in a Service object\n",
      "  driver = webdriver.Chrome(ubicacion)\n"
     ]
    }
   ],
   "source": [
    "ubicacion = \"/Users/brunocuevas/Documents/Web/web_scraping/chromedriver\" #Ruta del driver\n",
    "driver = webdriver.Chrome(ubicacion)\n",
    "home_link = \"https://www.zonaprop.com.ar/\"\n",
    "\n",
    "# DEFINO LA CIUDAD EN DONDE QUIERO BUSCAR: esto es importante agregarlo en el arreglo de datos como \"lugar\"\n",
    "search_kw = \"campana\".replace(\" \",\"+\")\n",
    "\n",
    "\n",
    "# Hago la busqueda en la página. Acá defino: departamentos, casas, todo. También si están en venta o en alquiler. \n",
    "driver.get(home_link+\"departamentos-venta-q-\"+search_kw+\".html\")\n",
    "\n",
    "page = BeautifulSoup(driver.page_source,'html.parser')\n",
    "\n"
   ]
  },
  {
   "cell_type": "code",
   "execution_count": 4,
   "metadata": {},
   "outputs": [
    {
     "data": {
      "text/plain": [
       "<div class=\"postingCardRow postingCardMainFeaturesBlock go-to-posting\">\n",
       "<ul class=\"postingCardMainFeatures go-to-posting\" data-qa=\"features\">\n",
       "<li>\n",
       "<i class=\"postingCardIconsFeatures iconArea\"></i>\n",
       "52 m²\n",
       "</li>\n",
       "<li>\n",
       "<i class=\"postingCardIconsFeatures iconEnvironments\"></i>\n",
       "2 amb.\n",
       "</li>\n",
       "<li>\n",
       "<i class=\"postingCardIconsFeatures iconBedrooms\"></i>\n",
       "1 dorm.\n",
       "</li>\n",
       "<li>\n",
       "<i class=\"postingCardIconsFeatures iconBathrooms\"></i>\n",
       "1\n",
       "baño\n",
       "</li>\n",
       "</ul>\n",
       "</div>"
      ]
     },
     "execution_count": 4,
     "metadata": {},
     "output_type": "execute_result"
    }
   ],
   "source": [
    "bloque = page.find(\"div\", attrs= {\"class\": \"postingCardRow postingCardMainFeaturesBlock go-to-posting\"})\n",
    "bloque"
   ]
  },
  {
   "cell_type": "code",
   "execution_count": 5,
   "metadata": {},
   "outputs": [
    {
     "name": "stderr",
     "output_type": "stream",
     "text": [
      "/var/folders/hx/cw5n8jjn3h3712lbydxq3h340000gn/T/ipykernel_56831/770647056.py:2: DeprecationWarning: executable_path has been deprecated, please pass in a Service object\n",
      "  driver = webdriver.Chrome(ubicacion)\n"
     ]
    }
   ],
   "source": [
    "ubicacion = \"/Users/brunocuevas/Documents/Web/web_scraping/chromedriver\" #Ruta del driver\n",
    "driver = webdriver.Chrome(ubicacion)\n",
    "home_link = \"https://www.zonaprop.com.ar/\"\n",
    "\n",
    "# Defino la ciudad en donde quiero buscar. \n",
    "search_kw = \"campana\".replace(\" \",\"+\")\n",
    "\n",
    "\n",
    "# Hago la busqueda en la página. Acá defino: departamentos, casas, todo. También si están en venta o en alquiler. \n",
    "driver.get(home_link+\"departamentos-venta-q-\"+search_kw+\".html\")\n",
    "\n",
    "page = BeautifulSoup(driver.page_source,'html.parser')\n"
   ]
  },
  {
   "cell_type": "code",
   "execution_count": 6,
   "metadata": {},
   "outputs": [
    {
     "name": "stdout",
     "output_type": "stream",
     "text": [
      "52 m²2 amb.1 dorm.1baño\n",
      "60 m²3 amb.2 dorm.1baño\n",
      "68 m²3 amb.2 dorm.1baño2coch.\n",
      "52 m²2 amb.1 dorm.1baño1coch.\n",
      "52 m²1 amb.1baño\n",
      "56 m²3 amb.2 dorm.1baño1coch.\n",
      "44 m²2 amb.1 dorm.1baño1coch.\n",
      "53 m²3 amb.2 dorm.1baño1coch.\n",
      "44 m²1 amb.1baño1coch.\n",
      "33 m²1 amb.1baño1coch.\n",
      "43 m²2 amb.1 dorm.1baño\n",
      "50 m²2 amb.1 dorm.1baño1coch.\n",
      "44 m²2 amb.1 dorm.1baño1coch.\n",
      "75 m²3 amb.2 dorm.1baño\n",
      "44 m²2 amb.1 dorm.1baño1coch.\n",
      "62 m²2 amb.1 dorm.2baños1coch.\n",
      "47 m²2 amb.1 dorm.1baño1coch.\n",
      "3 amb.2 dorm.1baño\n",
      "60 m²3 amb.2 dorm.1baño1coch.\n",
      "50 m²2 amb.1 dorm.1baño\n"
     ]
    }
   ],
   "source": [
    "for depto in page.findAll(\"div\", attrs= {\"class\": \"postingCardContent\"}):\n",
    "    properties = depto.find(\"div\", attrs= {\"class\": \"postingCardRow postingCardMainFeaturesBlock go-to-posting\"})\n",
    "    properties = properties.text.replace(\"\\n\", \"\")\n",
    "    print(properties)"
   ]
  },
  {
   "cell_type": "code",
   "execution_count": null,
   "metadata": {},
   "outputs": [],
   "source": []
  }
 ],
 "metadata": {
  "interpreter": {
   "hash": "aee8b7b246df8f9039afb4144a1f6fd8d2ca17a180786b69acc140d282b71a49"
  },
  "kernelspec": {
   "display_name": "Python 3.10.2 64-bit",
   "language": "python",
   "name": "python3"
  },
  "language_info": {
   "codemirror_mode": {
    "name": "ipython",
    "version": 3
   },
   "file_extension": ".py",
   "mimetype": "text/x-python",
   "name": "python",
   "nbconvert_exporter": "python",
   "pygments_lexer": "ipython3",
   "version": "3.10.2"
  },
  "orig_nbformat": 4
 },
 "nbformat": 4,
 "nbformat_minor": 2
}
