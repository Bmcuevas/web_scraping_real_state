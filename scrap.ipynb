{
 "cells": [
  {
   "cell_type": "code",
   "execution_count": 1,
   "metadata": {},
   "outputs": [],
   "source": [
    "from bs4 import BeautifulSoup\n",
    "from selenium import webdriver\n",
    "from selenium.common.exceptions import WebDriverException\n",
    "import pandas as pd\n",
    "from datetime import date\n",
    "import time\n"
   ]
  },
  {
   "cell_type": "code",
   "execution_count": 139,
   "metadata": {},
   "outputs": [
    {
     "name": "stderr",
     "output_type": "stream",
     "text": [
      "/var/folders/hx/cw5n8jjn3h3712lbydxq3h340000gn/T/ipykernel_81445/3693831010.py:2: DeprecationWarning: executable_path has been deprecated, please pass in a Service object\n",
      "  driver = webdriver.Chrome(ubicacion)\n"
     ]
    }
   ],
   "source": [
    "ubicacion = \"/Users/brunocuevas/Documents/Web/web_scraping/chromedriver\" #Ruta del driver\n",
    "driver = webdriver.Chrome(ubicacion)\n",
    "home_link = \"https://www.zonaprop.com.ar/\"\n",
    "\n",
    "# Defino la ciudad en donde quiero buscar. \n",
    "search_kw = \"campana\".replace(\" \",\"+\")\n",
    "\n",
    "\n",
    "# Hago la busqueda en la página. Acá defino: departamentos, casas, todo. También si están en venta o en alquiler. \n",
    "driver.get(home_link+\"departamentos-venta-q-\"+search_kw+\".html\")\n",
    "\n",
    "page = BeautifulSoup(driver.page_source,'html.parser')\n",
    "\n",
    "pg_amount = 25 #CAMBIAR SEGÚN LA CANTIAD DE PÁGINAS. TENEMOS QUE IR PROBANDO. "
   ]
  },
  {
   "cell_type": "markdown",
   "metadata": {},
   "source": [
    "# Propiedades de los inmuebles"
   ]
  },
  {
   "cell_type": "code",
   "execution_count": 140,
   "metadata": {},
   "outputs": [
    {
     "name": "stdout",
     "output_type": "stream",
     "text": [
      "['52 m²2 amb.1 dorm.1baño', '60 m²3 amb.2 dorm.1baño', '68 m²3 amb.2 dorm.1baño2coch.', '52 m²2 amb.1 dorm.1baño1coch.', '56 m²3 amb.2 dorm.1baño1coch.', '44 m²2 amb.1 dorm.1baño1coch.', '53 m²3 amb.2 dorm.1baño1coch.', '44 m²1 amb.1baño1coch.', '33 m²1 amb.1baño1coch.', '43 m²2 amb.1 dorm.1baño', '50 m²2 amb.1 dorm.1baño1coch.', '44 m²2 amb.1 dorm.1baño1coch.', '75 m²3 amb.2 dorm.1baño', '44 m²2 amb.1 dorm.1baño1coch.', '62 m²2 amb.1 dorm.2baños1coch.', '47 m²2 amb.1 dorm.1baño1coch.', '3 amb.2 dorm.1baño', '60 m²3 amb.2 dorm.1baño1coch.', '54 m²3 amb.2 dorm.1baño1coch.', '50 m²2 amb.1 dorm.1baño', '52 m²2 amb.1 dorm.1baño', '60 m²3 amb.2 dorm.1baño', '68 m²3 amb.2 dorm.1baño2coch.', '52 m²2 amb.1 dorm.1baño1coch.', '56 m²3 amb.2 dorm.1baño1coch.', '44 m²2 amb.1 dorm.1baño1coch.', '53 m²3 amb.2 dorm.1baño1coch.', '44 m²1 amb.1baño1coch.', '33 m²1 amb.1baño1coch.', '43 m²2 amb.1 dorm.1baño', '50 m²2 amb.1 dorm.1baño1coch.', '44 m²2 amb.1 dorm.1baño1coch.', '75 m²3 amb.2 dorm.1baño', '44 m²2 amb.1 dorm.1baño1coch.', '62 m²2 amb.1 dorm.2baños1coch.', '47 m²2 amb.1 dorm.1baño1coch.', '3 amb.2 dorm.1baño', '60 m²3 amb.2 dorm.1baño1coch.', '54 m²3 amb.2 dorm.1baño1coch.', '50 m²2 amb.1 dorm.1baño', '52 m²2 amb.1 dorm.1baño', '60 m²3 amb.2 dorm.1baño', '68 m²3 amb.2 dorm.1baño2coch.', '52 m²2 amb.1 dorm.1baño1coch.', '56 m²3 amb.2 dorm.1baño1coch.', '44 m²2 amb.1 dorm.1baño1coch.', '53 m²3 amb.2 dorm.1baño1coch.', '44 m²1 amb.1baño1coch.', '33 m²1 amb.1baño1coch.', '43 m²2 amb.1 dorm.1baño', '50 m²2 amb.1 dorm.1baño1coch.', '44 m²2 amb.1 dorm.1baño1coch.', '75 m²3 amb.2 dorm.1baño', '44 m²2 amb.1 dorm.1baño1coch.', '62 m²2 amb.1 dorm.2baños1coch.', '47 m²2 amb.1 dorm.1baño1coch.', '3 amb.2 dorm.1baño', '60 m²3 amb.2 dorm.1baño1coch.', '54 m²3 amb.2 dorm.1baño1coch.', '50 m²2 amb.1 dorm.1baño', '52 m²2 amb.1 dorm.1baño', '60 m²3 amb.2 dorm.1baño', '68 m²3 amb.2 dorm.1baño2coch.', '52 m²2 amb.1 dorm.1baño1coch.', '56 m²3 amb.2 dorm.1baño1coch.', '44 m²2 amb.1 dorm.1baño1coch.', '53 m²3 amb.2 dorm.1baño1coch.', '44 m²1 amb.1baño1coch.', '33 m²1 amb.1baño1coch.', '43 m²2 amb.1 dorm.1baño', '50 m²2 amb.1 dorm.1baño1coch.', '44 m²2 amb.1 dorm.1baño1coch.', '75 m²3 amb.2 dorm.1baño', '44 m²2 amb.1 dorm.1baño1coch.', '62 m²2 amb.1 dorm.2baños1coch.', '47 m²2 amb.1 dorm.1baño1coch.', '3 amb.2 dorm.1baño', '60 m²3 amb.2 dorm.1baño1coch.', '54 m²3 amb.2 dorm.1baño1coch.', '50 m²2 amb.1 dorm.1baño', '52 m²2 amb.1 dorm.1baño', '60 m²3 amb.2 dorm.1baño', '68 m²3 amb.2 dorm.1baño2coch.', '52 m²2 amb.1 dorm.1baño1coch.', '56 m²3 amb.2 dorm.1baño1coch.', '44 m²2 amb.1 dorm.1baño1coch.', '53 m²3 amb.2 dorm.1baño1coch.', '44 m²1 amb.1baño1coch.', '33 m²1 amb.1baño1coch.', '43 m²2 amb.1 dorm.1baño', '50 m²2 amb.1 dorm.1baño1coch.', '44 m²2 amb.1 dorm.1baño1coch.', '75 m²3 amb.2 dorm.1baño', '44 m²2 amb.1 dorm.1baño1coch.', '62 m²2 amb.1 dorm.2baños1coch.', '47 m²2 amb.1 dorm.1baño1coch.', '3 amb.2 dorm.1baño', '60 m²3 amb.2 dorm.1baño1coch.', '54 m²3 amb.2 dorm.1baño1coch.', '50 m²2 amb.1 dorm.1baño', '52 m²2 amb.1 dorm.1baño', '60 m²3 amb.2 dorm.1baño', '68 m²3 amb.2 dorm.1baño2coch.', '52 m²2 amb.1 dorm.1baño1coch.', '56 m²3 amb.2 dorm.1baño1coch.', '44 m²2 amb.1 dorm.1baño1coch.', '53 m²3 amb.2 dorm.1baño1coch.', '44 m²1 amb.1baño1coch.', '33 m²1 amb.1baño1coch.', '43 m²2 amb.1 dorm.1baño', '50 m²2 amb.1 dorm.1baño1coch.', '44 m²2 amb.1 dorm.1baño1coch.', '75 m²3 amb.2 dorm.1baño', '44 m²2 amb.1 dorm.1baño1coch.', '62 m²2 amb.1 dorm.2baños1coch.', '47 m²2 amb.1 dorm.1baño1coch.', '3 amb.2 dorm.1baño', '60 m²3 amb.2 dorm.1baño1coch.', '54 m²3 amb.2 dorm.1baño1coch.', '50 m²2 amb.1 dorm.1baño', '52 m²2 amb.1 dorm.1baño', '60 m²3 amb.2 dorm.1baño', '68 m²3 amb.2 dorm.1baño2coch.', '52 m²2 amb.1 dorm.1baño1coch.', '56 m²3 amb.2 dorm.1baño1coch.', '44 m²2 amb.1 dorm.1baño1coch.', '53 m²3 amb.2 dorm.1baño1coch.', '44 m²1 amb.1baño1coch.', '33 m²1 amb.1baño1coch.', '43 m²2 amb.1 dorm.1baño', '50 m²2 amb.1 dorm.1baño1coch.', '44 m²2 amb.1 dorm.1baño1coch.', '75 m²3 amb.2 dorm.1baño', '44 m²2 amb.1 dorm.1baño1coch.', '62 m²2 amb.1 dorm.2baños1coch.', '47 m²2 amb.1 dorm.1baño1coch.', '3 amb.2 dorm.1baño', '60 m²3 amb.2 dorm.1baño1coch.', '54 m²3 amb.2 dorm.1baño1coch.', '50 m²2 amb.1 dorm.1baño', '52 m²2 amb.1 dorm.1baño', '60 m²3 amb.2 dorm.1baño', '68 m²3 amb.2 dorm.1baño2coch.', '52 m²2 amb.1 dorm.1baño1coch.', '56 m²3 amb.2 dorm.1baño1coch.', '44 m²2 amb.1 dorm.1baño1coch.', '53 m²3 amb.2 dorm.1baño1coch.', '44 m²1 amb.1baño1coch.', '33 m²1 amb.1baño1coch.', '43 m²2 amb.1 dorm.1baño', '50 m²2 amb.1 dorm.1baño1coch.', '44 m²2 amb.1 dorm.1baño1coch.', '75 m²3 amb.2 dorm.1baño', '44 m²2 amb.1 dorm.1baño1coch.', '62 m²2 amb.1 dorm.2baños1coch.', '47 m²2 amb.1 dorm.1baño1coch.', '3 amb.2 dorm.1baño', '60 m²3 amb.2 dorm.1baño1coch.', '54 m²3 amb.2 dorm.1baño1coch.', '50 m²2 amb.1 dorm.1baño', '52 m²2 amb.1 dorm.1baño', '60 m²3 amb.2 dorm.1baño', '68 m²3 amb.2 dorm.1baño2coch.', '52 m²2 amb.1 dorm.1baño1coch.', '56 m²3 amb.2 dorm.1baño1coch.', '44 m²2 amb.1 dorm.1baño1coch.', '53 m²3 amb.2 dorm.1baño1coch.', '44 m²1 amb.1baño1coch.', '33 m²1 amb.1baño1coch.', '43 m²2 amb.1 dorm.1baño', '50 m²2 amb.1 dorm.1baño1coch.', '44 m²2 amb.1 dorm.1baño1coch.', '75 m²3 amb.2 dorm.1baño', '44 m²2 amb.1 dorm.1baño1coch.', '62 m²2 amb.1 dorm.2baños1coch.', '47 m²2 amb.1 dorm.1baño1coch.', '3 amb.2 dorm.1baño', '60 m²3 amb.2 dorm.1baño1coch.', '54 m²3 amb.2 dorm.1baño1coch.', '50 m²2 amb.1 dorm.1baño', '52 m²2 amb.1 dorm.1baño', '60 m²3 amb.2 dorm.1baño', '68 m²3 amb.2 dorm.1baño2coch.', '52 m²2 amb.1 dorm.1baño1coch.', '56 m²3 amb.2 dorm.1baño1coch.', '44 m²2 amb.1 dorm.1baño1coch.', '53 m²3 amb.2 dorm.1baño1coch.', '44 m²1 amb.1baño1coch.', '33 m²1 amb.1baño1coch.', '43 m²2 amb.1 dorm.1baño', '50 m²2 amb.1 dorm.1baño1coch.', '44 m²2 amb.1 dorm.1baño1coch.', '75 m²3 amb.2 dorm.1baño', '44 m²2 amb.1 dorm.1baño1coch.', '62 m²2 amb.1 dorm.2baños1coch.', '47 m²2 amb.1 dorm.1baño1coch.', '3 amb.2 dorm.1baño', '60 m²3 amb.2 dorm.1baño1coch.', '54 m²3 amb.2 dorm.1baño1coch.', '50 m²2 amb.1 dorm.1baño', '52 m²2 amb.1 dorm.1baño', '60 m²3 amb.2 dorm.1baño', '68 m²3 amb.2 dorm.1baño2coch.', '52 m²2 amb.1 dorm.1baño1coch.', '56 m²3 amb.2 dorm.1baño1coch.', '44 m²2 amb.1 dorm.1baño1coch.', '53 m²3 amb.2 dorm.1baño1coch.', '44 m²1 amb.1baño1coch.', '33 m²1 amb.1baño1coch.', '43 m²2 amb.1 dorm.1baño', '50 m²2 amb.1 dorm.1baño1coch.', '44 m²2 amb.1 dorm.1baño1coch.', '75 m²3 amb.2 dorm.1baño', '44 m²2 amb.1 dorm.1baño1coch.', '62 m²2 amb.1 dorm.2baños1coch.', '47 m²2 amb.1 dorm.1baño1coch.', '3 amb.2 dorm.1baño', '60 m²3 amb.2 dorm.1baño1coch.', '54 m²3 amb.2 dorm.1baño1coch.', '50 m²2 amb.1 dorm.1baño', '52 m²2 amb.1 dorm.1baño', '60 m²3 amb.2 dorm.1baño', '68 m²3 amb.2 dorm.1baño2coch.', '52 m²2 amb.1 dorm.1baño1coch.', '56 m²3 amb.2 dorm.1baño1coch.', '44 m²2 amb.1 dorm.1baño1coch.', '53 m²3 amb.2 dorm.1baño1coch.', '44 m²1 amb.1baño1coch.', '33 m²1 amb.1baño1coch.', '43 m²2 amb.1 dorm.1baño', '50 m²2 amb.1 dorm.1baño1coch.', '44 m²2 amb.1 dorm.1baño1coch.', '75 m²3 amb.2 dorm.1baño', '44 m²2 amb.1 dorm.1baño1coch.', '62 m²2 amb.1 dorm.2baños1coch.', '47 m²2 amb.1 dorm.1baño1coch.', '3 amb.2 dorm.1baño', '60 m²3 amb.2 dorm.1baño1coch.', '54 m²3 amb.2 dorm.1baño1coch.', '50 m²2 amb.1 dorm.1baño', '52 m²2 amb.1 dorm.1baño', '60 m²3 amb.2 dorm.1baño', '68 m²3 amb.2 dorm.1baño2coch.', '52 m²2 amb.1 dorm.1baño1coch.', '56 m²3 amb.2 dorm.1baño1coch.', '44 m²2 amb.1 dorm.1baño1coch.', '53 m²3 amb.2 dorm.1baño1coch.', '44 m²1 amb.1baño1coch.', '33 m²1 amb.1baño1coch.', '43 m²2 amb.1 dorm.1baño', '50 m²2 amb.1 dorm.1baño1coch.', '44 m²2 amb.1 dorm.1baño1coch.', '75 m²3 amb.2 dorm.1baño', '44 m²2 amb.1 dorm.1baño1coch.', '62 m²2 amb.1 dorm.2baños1coch.', '47 m²2 amb.1 dorm.1baño1coch.', '3 amb.2 dorm.1baño', '60 m²3 amb.2 dorm.1baño1coch.', '54 m²3 amb.2 dorm.1baño1coch.', '50 m²2 amb.1 dorm.1baño', '52 m²2 amb.1 dorm.1baño', '60 m²3 amb.2 dorm.1baño', '68 m²3 amb.2 dorm.1baño2coch.', '52 m²2 amb.1 dorm.1baño1coch.', '56 m²3 amb.2 dorm.1baño1coch.', '44 m²2 amb.1 dorm.1baño1coch.', '53 m²3 amb.2 dorm.1baño1coch.', '44 m²1 amb.1baño1coch.', '33 m²1 amb.1baño1coch.', '43 m²2 amb.1 dorm.1baño', '50 m²2 amb.1 dorm.1baño1coch.', '44 m²2 amb.1 dorm.1baño1coch.', '75 m²3 amb.2 dorm.1baño', '44 m²2 amb.1 dorm.1baño1coch.', '62 m²2 amb.1 dorm.2baños1coch.', '47 m²2 amb.1 dorm.1baño1coch.', '3 amb.2 dorm.1baño', '60 m²3 amb.2 dorm.1baño1coch.', '54 m²3 amb.2 dorm.1baño1coch.', '50 m²2 amb.1 dorm.1baño', '52 m²2 amb.1 dorm.1baño', '60 m²3 amb.2 dorm.1baño', '68 m²3 amb.2 dorm.1baño2coch.', '52 m²2 amb.1 dorm.1baño1coch.', '56 m²3 amb.2 dorm.1baño1coch.', '44 m²2 amb.1 dorm.1baño1coch.', '53 m²3 amb.2 dorm.1baño1coch.', '44 m²1 amb.1baño1coch.', '33 m²1 amb.1baño1coch.', '43 m²2 amb.1 dorm.1baño', '50 m²2 amb.1 dorm.1baño1coch.', '44 m²2 amb.1 dorm.1baño1coch.', '75 m²3 amb.2 dorm.1baño', '44 m²2 amb.1 dorm.1baño1coch.', '62 m²2 amb.1 dorm.2baños1coch.', '47 m²2 amb.1 dorm.1baño1coch.', '3 amb.2 dorm.1baño', '60 m²3 amb.2 dorm.1baño1coch.', '54 m²3 amb.2 dorm.1baño1coch.', '50 m²2 amb.1 dorm.1baño', '52 m²2 amb.1 dorm.1baño', '60 m²3 amb.2 dorm.1baño', '68 m²3 amb.2 dorm.1baño2coch.', '52 m²2 amb.1 dorm.1baño1coch.', '56 m²3 amb.2 dorm.1baño1coch.', '44 m²2 amb.1 dorm.1baño1coch.', '53 m²3 amb.2 dorm.1baño1coch.', '44 m²1 amb.1baño1coch.', '33 m²1 amb.1baño1coch.', '43 m²2 amb.1 dorm.1baño', '50 m²2 amb.1 dorm.1baño1coch.', '44 m²2 amb.1 dorm.1baño1coch.', '75 m²3 amb.2 dorm.1baño', '44 m²2 amb.1 dorm.1baño1coch.', '62 m²2 amb.1 dorm.2baños1coch.', '47 m²2 amb.1 dorm.1baño1coch.', '3 amb.2 dorm.1baño', '60 m²3 amb.2 dorm.1baño1coch.', '54 m²3 amb.2 dorm.1baño1coch.', '50 m²2 amb.1 dorm.1baño', '52 m²2 amb.1 dorm.1baño', '60 m²3 amb.2 dorm.1baño', '68 m²3 amb.2 dorm.1baño2coch.', '52 m²2 amb.1 dorm.1baño1coch.', '56 m²3 amb.2 dorm.1baño1coch.', '44 m²2 amb.1 dorm.1baño1coch.', '53 m²3 amb.2 dorm.1baño1coch.', '44 m²1 amb.1baño1coch.', '33 m²1 amb.1baño1coch.', '43 m²2 amb.1 dorm.1baño', '50 m²2 amb.1 dorm.1baño1coch.', '44 m²2 amb.1 dorm.1baño1coch.', '75 m²3 amb.2 dorm.1baño', '44 m²2 amb.1 dorm.1baño1coch.', '62 m²2 amb.1 dorm.2baños1coch.', '47 m²2 amb.1 dorm.1baño1coch.', '3 amb.2 dorm.1baño', '60 m²3 amb.2 dorm.1baño1coch.', '54 m²3 amb.2 dorm.1baño1coch.', '50 m²2 amb.1 dorm.1baño', '52 m²2 amb.1 dorm.1baño', '60 m²3 amb.2 dorm.1baño', '68 m²3 amb.2 dorm.1baño2coch.', '52 m²2 amb.1 dorm.1baño1coch.', '56 m²3 amb.2 dorm.1baño1coch.', '44 m²2 amb.1 dorm.1baño1coch.', '53 m²3 amb.2 dorm.1baño1coch.', '44 m²1 amb.1baño1coch.', '33 m²1 amb.1baño1coch.', '43 m²2 amb.1 dorm.1baño', '50 m²2 amb.1 dorm.1baño1coch.', '44 m²2 amb.1 dorm.1baño1coch.', '75 m²3 amb.2 dorm.1baño', '44 m²2 amb.1 dorm.1baño1coch.', '62 m²2 amb.1 dorm.2baños1coch.', '47 m²2 amb.1 dorm.1baño1coch.', '3 amb.2 dorm.1baño', '60 m²3 amb.2 dorm.1baño1coch.', '54 m²3 amb.2 dorm.1baño1coch.', '50 m²2 amb.1 dorm.1baño', '52 m²2 amb.1 dorm.1baño', '60 m²3 amb.2 dorm.1baño', '68 m²3 amb.2 dorm.1baño2coch.', '52 m²2 amb.1 dorm.1baño1coch.', '56 m²3 amb.2 dorm.1baño1coch.', '44 m²2 amb.1 dorm.1baño1coch.', '53 m²3 amb.2 dorm.1baño1coch.', '44 m²1 amb.1baño1coch.', '33 m²1 amb.1baño1coch.', '43 m²2 amb.1 dorm.1baño', '50 m²2 amb.1 dorm.1baño1coch.', '44 m²2 amb.1 dorm.1baño1coch.', '75 m²3 amb.2 dorm.1baño', '44 m²2 amb.1 dorm.1baño1coch.', '62 m²2 amb.1 dorm.2baños1coch.', '47 m²2 amb.1 dorm.1baño1coch.', '3 amb.2 dorm.1baño', '60 m²3 amb.2 dorm.1baño1coch.', '54 m²3 amb.2 dorm.1baño1coch.', '50 m²2 amb.1 dorm.1baño', '52 m²2 amb.1 dorm.1baño', '60 m²3 amb.2 dorm.1baño', '68 m²3 amb.2 dorm.1baño2coch.', '52 m²2 amb.1 dorm.1baño1coch.', '56 m²3 amb.2 dorm.1baño1coch.', '44 m²2 amb.1 dorm.1baño1coch.', '53 m²3 amb.2 dorm.1baño1coch.', '44 m²1 amb.1baño1coch.', '33 m²1 amb.1baño1coch.', '43 m²2 amb.1 dorm.1baño', '50 m²2 amb.1 dorm.1baño1coch.', '44 m²2 amb.1 dorm.1baño1coch.', '75 m²3 amb.2 dorm.1baño', '44 m²2 amb.1 dorm.1baño1coch.', '62 m²2 amb.1 dorm.2baños1coch.', '47 m²2 amb.1 dorm.1baño1coch.', '3 amb.2 dorm.1baño', '60 m²3 amb.2 dorm.1baño1coch.', '54 m²3 amb.2 dorm.1baño1coch.', '50 m²2 amb.1 dorm.1baño']\n"
     ]
    }
   ],
   "source": [
    "properties_array = []\n",
    "for j in range(0, 20):\n",
    "    for depto in page.findAll(\"div\", attrs= {\"class\": \"postingCardContent\"}):\n",
    "        properties = depto.find(\"div\", attrs= {\"class\": \"postingCardRow postingCardMainFeaturesBlock go-to-posting\"})\n",
    "        if properties:\n",
    "            properties = properties.text.replace(\"\\n\", \"\")\n",
    "            properties_array.append(properties)\n",
    "        else: properties_array.append(\"Nan\")\n",
    "time.sleep(2)\n",
    "print(properties_array)"
   ]
  },
  {
   "cell_type": "code",
   "execution_count": 131,
   "metadata": {},
   "outputs": [
    {
     "name": "stderr",
     "output_type": "stream",
     "text": [
      "/var/folders/hx/cw5n8jjn3h3712lbydxq3h340000gn/T/ipykernel_81445/1401911326.py:10: DeprecationWarning: find_element_by_css_selector is deprecated. Please use find_element(by=By.CSS_SELECTOR, value=css_selector) instead\n",
      "  next_btn = driver.find_element_by_css_selector(\".pag-go-next\")\n"
     ]
    },
    {
     "name": "stdout",
     "output_type": "stream",
     "text": [
      "['USD 135.000', 'USD 105.000', 'USD 104.800', 'USD 85.000', 'USD 48.500', 'USD 42.900', 'Nan', 'USD 128.000', 'USD 450.000', 'USD 62.000', 'Nan', 'USD 52.900', 'USD 34.000', 'USD 52.900', 'Nan', 'USD 52.900', 'USD 38.000', 'USD 52.900', 'Nan', 'USD 135.000', 'USD 105.000', 'USD 104.800', 'USD 85.000', 'USD 48.500', 'USD 42.900', 'Nan', 'USD 128.000', 'USD 450.000', 'USD 62.000', 'Nan', 'USD 52.900', 'USD 34.000', 'USD 52.900', 'Nan', 'USD 52.900', 'USD 38.000', 'USD 52.900', 'Nan', 'USD 135.000', 'USD 105.000', 'USD 104.800', 'USD 85.000', 'USD 48.500', 'USD 42.900', 'Nan', 'USD 128.000', 'USD 450.000', 'USD 62.000', 'Nan', 'USD 52.900', 'USD 34.000', 'USD 52.900', 'Nan', 'USD 52.900', 'USD 38.000', 'USD 52.900', 'Nan', 'USD 135.000', 'USD 105.000', 'USD 104.800', 'USD 85.000', 'USD 48.500', 'USD 42.900', 'Nan', 'USD 128.000', 'USD 450.000', 'USD 62.000', 'Nan', 'USD 52.900', 'USD 34.000', 'USD 52.900', 'Nan', 'USD 52.900', 'USD 38.000', 'USD 52.900', 'Nan', 'USD 135.000', 'USD 105.000', 'USD 104.800', 'USD 85.000', 'USD 48.500', 'USD 42.900', 'Nan', 'USD 128.000', 'USD 450.000', 'USD 62.000', 'Nan', 'USD 52.900', 'USD 34.000', 'USD 52.900', 'Nan', 'USD 52.900', 'USD 38.000', 'USD 52.900', 'Nan']\n"
     ]
    }
   ],
   "source": [
    "prices_array = []\n",
    "for i in range(0, pg_amount):\n",
    "    for depto in page.findAll(\"div\", attrs= {\"class\": \"postingCardContent\"}):\n",
    "        prices = depto.find(\"span\", attrs= {\"class\": \"firstPrice\"})\n",
    "        if prices:\n",
    "            prices = prices.text.replace(\"\\n\", \"\")\n",
    "            prices_array.append(prices)\n",
    "        else: prices_array.append(\"Nan\")\n",
    "next_btn = driver.find_element_by_css_selector(\".pag-go-next\")\n",
    "next_btn.click()\n",
    "time.sleep(2)\n",
    "print(prices_array)"
   ]
  },
  {
   "cell_type": "markdown",
   "metadata": {},
   "source": [
    "# Precios de los inmuebles"
   ]
  },
  {
   "cell_type": "code",
   "execution_count": 136,
   "metadata": {},
   "outputs": [
    {
     "name": "stderr",
     "output_type": "stream",
     "text": [
      "/var/folders/hx/cw5n8jjn3h3712lbydxq3h340000gn/T/ipykernel_81445/1379621355.py:10: DeprecationWarning: find_element_by_css_selector is deprecated. Please use find_element(by=By.CSS_SELECTOR, value=css_selector) instead\n",
      "  next_btn = driver.find_element_by_css_selector(\".pag-go-next\")\n"
     ]
    },
    {
     "ename": "ElementNotInteractableException",
     "evalue": "Message: element not interactable\n  (Session info: chrome=99.0.4844.84)\nStacktrace:\n0   chromedriver                        0x0000000102ba1159 chromedriver + 5120345\n1   chromedriver                        0x0000000102b2eb13 chromedriver + 4651795\n2   chromedriver                        0x000000010271ed1f chromedriver + 392479\n3   chromedriver                        0x00000001027552b5 chromedriver + 615093\n4   chromedriver                        0x0000000102749109 chromedriver + 565513\n5   chromedriver                        0x0000000102771b42 chromedriver + 731970\n6   chromedriver                        0x00000001027489b5 chromedriver + 563637\n7   chromedriver                        0x0000000102771c4e chromedriver + 732238\n8   chromedriver                        0x0000000102784637 chromedriver + 808503\n9   chromedriver                        0x0000000102771a33 chromedriver + 731699\n10  chromedriver                        0x00000001027475dd chromedriver + 558557\n11  chromedriver                        0x00000001027484f5 chromedriver + 562421\n12  chromedriver                        0x0000000102b5e38d chromedriver + 4846477\n13  chromedriver                        0x0000000102b7821c chromedriver + 4952604\n14  chromedriver                        0x0000000102b7da12 chromedriver + 4975122\n15  chromedriver                        0x0000000102b78b4a chromedriver + 4954954\n16  chromedriver                        0x0000000102b535b0 chromedriver + 4801968\n17  chromedriver                        0x0000000102b92f78 chromedriver + 5062520\n18  chromedriver                        0x0000000102b930ff chromedriver + 5062911\n19  chromedriver                        0x0000000102ba8545 chromedriver + 5150021\n20  libsystem_pthread.dylib             0x00007ff81a0834f4 _pthread_start + 125\n21  libsystem_pthread.dylib             0x00007ff81a07f00f thread_start + 15\n",
     "output_type": "error",
     "traceback": [
      "\u001b[0;31m---------------------------------------------------------------------------\u001b[0m",
      "\u001b[0;31mElementNotInteractableException\u001b[0m           Traceback (most recent call last)",
      "\u001b[1;32m/Users/brunocuevas/Documents/Web/web_scraping/scrap.ipynb Cell 7'\u001b[0m in \u001b[0;36m<cell line: 11>\u001b[0;34m()\u001b[0m\n\u001b[1;32m      <a href='vscode-notebook-cell:/Users/brunocuevas/Documents/Web/web_scraping/scrap.ipynb#ch0000005?line=8'>9</a>\u001b[0m         \u001b[39melse\u001b[39;00m: titles_array\u001b[39m.\u001b[39mappend(\u001b[39m\"\u001b[39m\u001b[39mNan\u001b[39m\u001b[39m\"\u001b[39m)\n\u001b[1;32m     <a href='vscode-notebook-cell:/Users/brunocuevas/Documents/Web/web_scraping/scrap.ipynb#ch0000005?line=9'>10</a>\u001b[0m next_btn \u001b[39m=\u001b[39m driver\u001b[39m.\u001b[39mfind_element_by_css_selector(\u001b[39m\"\u001b[39m\u001b[39m.pag-go-next\u001b[39m\u001b[39m\"\u001b[39m)\n\u001b[0;32m---> <a href='vscode-notebook-cell:/Users/brunocuevas/Documents/Web/web_scraping/scrap.ipynb#ch0000005?line=10'>11</a>\u001b[0m next_btn\u001b[39m.\u001b[39;49mclick()\n\u001b[1;32m     <a href='vscode-notebook-cell:/Users/brunocuevas/Documents/Web/web_scraping/scrap.ipynb#ch0000005?line=11'>12</a>\u001b[0m time\u001b[39m.\u001b[39msleep(\u001b[39m2\u001b[39m)\n\u001b[1;32m     <a href='vscode-notebook-cell:/Users/brunocuevas/Documents/Web/web_scraping/scrap.ipynb#ch0000005?line=12'>13</a>\u001b[0m \u001b[39mprint\u001b[39m(titles_array)\n",
      "File \u001b[0;32m/Library/Frameworks/Python.framework/Versions/3.10/lib/python3.10/site-packages/selenium/webdriver/remote/webelement.py:81\u001b[0m, in \u001b[0;36mWebElement.click\u001b[0;34m(self)\u001b[0m\n\u001b[1;32m     <a href='file:///Library/Frameworks/Python.framework/Versions/3.10/lib/python3.10/site-packages/selenium/webdriver/remote/webelement.py?line=78'>79</a>\u001b[0m \u001b[39mdef\u001b[39;00m \u001b[39mclick\u001b[39m(\u001b[39mself\u001b[39m) \u001b[39m-\u001b[39m\u001b[39m>\u001b[39m \u001b[39mNone\u001b[39;00m:\n\u001b[1;32m     <a href='file:///Library/Frameworks/Python.framework/Versions/3.10/lib/python3.10/site-packages/selenium/webdriver/remote/webelement.py?line=79'>80</a>\u001b[0m     \u001b[39m\"\"\"Clicks the element.\"\"\"\u001b[39;00m\n\u001b[0;32m---> <a href='file:///Library/Frameworks/Python.framework/Versions/3.10/lib/python3.10/site-packages/selenium/webdriver/remote/webelement.py?line=80'>81</a>\u001b[0m     \u001b[39mself\u001b[39;49m\u001b[39m.\u001b[39;49m_execute(Command\u001b[39m.\u001b[39;49mCLICK_ELEMENT)\n",
      "File \u001b[0;32m/Library/Frameworks/Python.framework/Versions/3.10/lib/python3.10/site-packages/selenium/webdriver/remote/webelement.py:710\u001b[0m, in \u001b[0;36mWebElement._execute\u001b[0;34m(self, command, params)\u001b[0m\n\u001b[1;32m    <a href='file:///Library/Frameworks/Python.framework/Versions/3.10/lib/python3.10/site-packages/selenium/webdriver/remote/webelement.py?line=707'>708</a>\u001b[0m     params \u001b[39m=\u001b[39m {}\n\u001b[1;32m    <a href='file:///Library/Frameworks/Python.framework/Versions/3.10/lib/python3.10/site-packages/selenium/webdriver/remote/webelement.py?line=708'>709</a>\u001b[0m params[\u001b[39m'\u001b[39m\u001b[39mid\u001b[39m\u001b[39m'\u001b[39m] \u001b[39m=\u001b[39m \u001b[39mself\u001b[39m\u001b[39m.\u001b[39m_id\n\u001b[0;32m--> <a href='file:///Library/Frameworks/Python.framework/Versions/3.10/lib/python3.10/site-packages/selenium/webdriver/remote/webelement.py?line=709'>710</a>\u001b[0m \u001b[39mreturn\u001b[39;00m \u001b[39mself\u001b[39;49m\u001b[39m.\u001b[39;49m_parent\u001b[39m.\u001b[39;49mexecute(command, params)\n",
      "File \u001b[0;32m/Library/Frameworks/Python.framework/Versions/3.10/lib/python3.10/site-packages/selenium/webdriver/remote/webdriver.py:425\u001b[0m, in \u001b[0;36mWebDriver.execute\u001b[0;34m(self, driver_command, params)\u001b[0m\n\u001b[1;32m    <a href='file:///Library/Frameworks/Python.framework/Versions/3.10/lib/python3.10/site-packages/selenium/webdriver/remote/webdriver.py?line=422'>423</a>\u001b[0m response \u001b[39m=\u001b[39m \u001b[39mself\u001b[39m\u001b[39m.\u001b[39mcommand_executor\u001b[39m.\u001b[39mexecute(driver_command, params)\n\u001b[1;32m    <a href='file:///Library/Frameworks/Python.framework/Versions/3.10/lib/python3.10/site-packages/selenium/webdriver/remote/webdriver.py?line=423'>424</a>\u001b[0m \u001b[39mif\u001b[39;00m response:\n\u001b[0;32m--> <a href='file:///Library/Frameworks/Python.framework/Versions/3.10/lib/python3.10/site-packages/selenium/webdriver/remote/webdriver.py?line=424'>425</a>\u001b[0m     \u001b[39mself\u001b[39;49m\u001b[39m.\u001b[39;49merror_handler\u001b[39m.\u001b[39;49mcheck_response(response)\n\u001b[1;32m    <a href='file:///Library/Frameworks/Python.framework/Versions/3.10/lib/python3.10/site-packages/selenium/webdriver/remote/webdriver.py?line=425'>426</a>\u001b[0m     response[\u001b[39m'\u001b[39m\u001b[39mvalue\u001b[39m\u001b[39m'\u001b[39m] \u001b[39m=\u001b[39m \u001b[39mself\u001b[39m\u001b[39m.\u001b[39m_unwrap_value(\n\u001b[1;32m    <a href='file:///Library/Frameworks/Python.framework/Versions/3.10/lib/python3.10/site-packages/selenium/webdriver/remote/webdriver.py?line=426'>427</a>\u001b[0m         response\u001b[39m.\u001b[39mget(\u001b[39m'\u001b[39m\u001b[39mvalue\u001b[39m\u001b[39m'\u001b[39m, \u001b[39mNone\u001b[39;00m))\n\u001b[1;32m    <a href='file:///Library/Frameworks/Python.framework/Versions/3.10/lib/python3.10/site-packages/selenium/webdriver/remote/webdriver.py?line=427'>428</a>\u001b[0m     \u001b[39mreturn\u001b[39;00m response\n",
      "File \u001b[0;32m/Library/Frameworks/Python.framework/Versions/3.10/lib/python3.10/site-packages/selenium/webdriver/remote/errorhandler.py:247\u001b[0m, in \u001b[0;36mErrorHandler.check_response\u001b[0;34m(self, response)\u001b[0m\n\u001b[1;32m    <a href='file:///Library/Frameworks/Python.framework/Versions/3.10/lib/python3.10/site-packages/selenium/webdriver/remote/errorhandler.py?line=244'>245</a>\u001b[0m         alert_text \u001b[39m=\u001b[39m value[\u001b[39m'\u001b[39m\u001b[39malert\u001b[39m\u001b[39m'\u001b[39m]\u001b[39m.\u001b[39mget(\u001b[39m'\u001b[39m\u001b[39mtext\u001b[39m\u001b[39m'\u001b[39m)\n\u001b[1;32m    <a href='file:///Library/Frameworks/Python.framework/Versions/3.10/lib/python3.10/site-packages/selenium/webdriver/remote/errorhandler.py?line=245'>246</a>\u001b[0m     \u001b[39mraise\u001b[39;00m exception_class(message, screen, stacktrace, alert_text)  \u001b[39m# type: ignore[call-arg]  # mypy is not smart enough here\u001b[39;00m\n\u001b[0;32m--> <a href='file:///Library/Frameworks/Python.framework/Versions/3.10/lib/python3.10/site-packages/selenium/webdriver/remote/errorhandler.py?line=246'>247</a>\u001b[0m \u001b[39mraise\u001b[39;00m exception_class(message, screen, stacktrace)\n",
      "\u001b[0;31mElementNotInteractableException\u001b[0m: Message: element not interactable\n  (Session info: chrome=99.0.4844.84)\nStacktrace:\n0   chromedriver                        0x0000000102ba1159 chromedriver + 5120345\n1   chromedriver                        0x0000000102b2eb13 chromedriver + 4651795\n2   chromedriver                        0x000000010271ed1f chromedriver + 392479\n3   chromedriver                        0x00000001027552b5 chromedriver + 615093\n4   chromedriver                        0x0000000102749109 chromedriver + 565513\n5   chromedriver                        0x0000000102771b42 chromedriver + 731970\n6   chromedriver                        0x00000001027489b5 chromedriver + 563637\n7   chromedriver                        0x0000000102771c4e chromedriver + 732238\n8   chromedriver                        0x0000000102784637 chromedriver + 808503\n9   chromedriver                        0x0000000102771a33 chromedriver + 731699\n10  chromedriver                        0x00000001027475dd chromedriver + 558557\n11  chromedriver                        0x00000001027484f5 chromedriver + 562421\n12  chromedriver                        0x0000000102b5e38d chromedriver + 4846477\n13  chromedriver                        0x0000000102b7821c chromedriver + 4952604\n14  chromedriver                        0x0000000102b7da12 chromedriver + 4975122\n15  chromedriver                        0x0000000102b78b4a chromedriver + 4954954\n16  chromedriver                        0x0000000102b535b0 chromedriver + 4801968\n17  chromedriver                        0x0000000102b92f78 chromedriver + 5062520\n18  chromedriver                        0x0000000102b930ff chromedriver + 5062911\n19  chromedriver                        0x0000000102ba8545 chromedriver + 5150021\n20  libsystem_pthread.dylib             0x00007ff81a0834f4 _pthread_start + 125\n21  libsystem_pthread.dylib             0x00007ff81a07f00f thread_start + 15\n"
     ]
    }
   ],
   "source": [
    "titles_array = []\n",
    "for i in range(0, pg_amount):\n",
    "    for depto in page.findAll(\"div\", attrs= {\"class\": \"postingCardContent\"}):\n",
    "        title = depto.find(\"h2\", attrs= {\"class\": \"postingCardTitle\"})\n",
    "        if title:\n",
    "            title = title.text.replace(\"\\n\", \"\")\n",
    "            titles_array.append(title)\n",
    "        else: titles_array.append(\"Nan\")\n",
    "next_btn = driver.find_element_by_css_selector(\".pag-go-next\")\n",
    "next_btn.click()\n",
    "time.sleep(2)\n",
    "print(titles_array)"
   ]
  },
  {
   "cell_type": "code",
   "execution_count": null,
   "metadata": {},
   "outputs": [],
   "source": []
  }
 ],
 "metadata": {
  "interpreter": {
   "hash": "aee8b7b246df8f9039afb4144a1f6fd8d2ca17a180786b69acc140d282b71a49"
  },
  "kernelspec": {
   "display_name": "Python 3.10.2 64-bit",
   "language": "python",
   "name": "python3"
  },
  "language_info": {
   "codemirror_mode": {
    "name": "ipython",
    "version": 3
   },
   "file_extension": ".py",
   "mimetype": "text/x-python",
   "name": "python",
   "nbconvert_exporter": "python",
   "pygments_lexer": "ipython3",
   "version": "3.10.2"
  },
  "orig_nbformat": 4
 },
 "nbformat": 4,
 "nbformat_minor": 2
}
